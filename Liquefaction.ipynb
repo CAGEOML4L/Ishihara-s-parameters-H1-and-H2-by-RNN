{
  "cells": [
    {
      "cell_type": "markdown",
      "metadata": {
        "id": "WiwDQJtExcSC"
      },
      "source": [
        "## Import libraries"
      ]
    },
    {
      "cell_type": "code",
      "execution_count": null,
      "metadata": {
        "ExecuteTime": {
          "end_time": "2025-03-06T10:09:15.537440Z",
          "start_time": "2025-03-06T10:09:15.525448Z"
        },
        "id": "2Mcaba9taCw5"
      },
      "outputs": [],
      "source": [
        "import sys\n",
        "import os\n",
        "import time\n",
        "import pandas as pd\n",
        "import numpy as np\n",
        "from sklearn.metrics import mean_squared_error\n",
        "from sklearn.preprocessing import MinMaxScaler\n",
        "from sklearn.preprocessing import StandardScaler\n",
        "from sklearn.metrics import r2_score\n",
        "import matplotlib.pyplot as plt\n",
        "import torch\n",
        "from torch.utils.data import Dataset, DataLoader\n",
        "import torch.nn as nn\n",
        "import torch.optim as optim\n",
        "import matplotlib.pyplot as plt\n",
        "import math\n",
        "from torch.utils.data import TensorDataset, DataLoader\n",
        "from tqdm import tqdm_notebook\n",
        "from pathlib import Path\n",
        "import random\n",
        "import torch.nn.init as init\n",
        "import numpy as np\n",
        "# from keras.utils import np_utils"
      ]
    },
    {
      "cell_type": "code",
      "execution_count": null,
      "metadata": {
        "ExecuteTime": {
          "end_time": "2025-03-06T10:09:15.552442Z",
          "start_time": "2025-03-06T10:09:15.540453Z"
        },
        "id": "AYsX21OmaMM4"
      },
      "outputs": [],
      "source": [
        "torch.manual_seed(42)\n",
        "random.seed(42)\n",
        "np.random.seed(42)"
      ]
    },
    {
      "cell_type": "code",
      "execution_count": null,
      "metadata": {
        "ExecuteTime": {
          "end_time": "2025-03-06T10:09:15.568461Z",
          "start_time": "2025-03-06T10:09:15.556464Z"
        },
        "id": "l9xlT5KT4q8I"
      },
      "outputs": [],
      "source": [
        "np.set_printoptions(threshold=np.inf)"
      ]
    },
    {
      "cell_type": "markdown",
      "metadata": {
        "id": "4PeZ9DFwxjZM"
      },
      "source": [
        "## Check GPU"
      ]
    },
    {
      "cell_type": "code",
      "execution_count": null,
      "metadata": {
        "ExecuteTime": {
          "end_time": "2025-03-06T10:09:15.723095Z",
          "start_time": "2025-03-06T10:09:15.570477Z"
        },
        "id": "DtLVPqRgLRc2",
        "outputId": "5488247d-68de-4119-9da8-9b3a7b3412e7"
      },
      "outputs": [
        {
          "name": "stdout",
          "output_type": "stream",
          "text": [
            "Thu Mar  6 12:00:44 2025       \n",
            "+---------------------------------------------------------------------------------------+\n",
            "| NVIDIA-SMI 537.13                 Driver Version: 537.13       CUDA Version: 12.2     |\n",
            "|-----------------------------------------+----------------------+----------------------+\n",
            "| GPU  Name                     TCC/WDDM  | Bus-Id        Disp.A | Volatile Uncorr. ECC |\n",
            "| Fan  Temp   Perf          Pwr:Usage/Cap |         Memory-Usage | GPU-Util  Compute M. |\n",
            "|                                         |                      |               MIG M. |\n",
            "|=========================================+======================+======================|\n",
            "|   0  NVIDIA GeForce GTX 1060      WDDM  | 00000000:01:00.0  On |                  N/A |\n",
            "| N/A   49C    P8               5W /  78W |    658MiB /  6144MiB |     36%      Default |\n",
            "|                                         |                      |                  N/A |\n",
            "+-----------------------------------------+----------------------+----------------------+\n",
            "                                                                                         \n",
            "+---------------------------------------------------------------------------------------+\n",
            "| Processes:                                                                            |\n",
            "|  GPU   GI   CI        PID   Type   Process name                            GPU Memory |\n",
            "|        ID   ID                                                             Usage      |\n",
            "|=======================================================================================|\n",
            "|    0   N/A  N/A       716    C+G   ...ta\\Local\\Programs\\Notion\\Notion.exe    N/A      |\n",
            "|    0   N/A  N/A      6756    C+G   ...t.LockApp_cw5n1h2txyewy\\LockApp.exe    N/A      |\n",
            "|    0   N/A  N/A      8452    C+G   ....Search_cw5n1h2txyewy\\SearchApp.exe    N/A      |\n",
            "|    0   N/A  N/A     10760    C+G   ...CBS_cw5n1h2txyewy\\TextInputHost.exe    N/A      |\n",
            "|    0   N/A  N/A     13564    C+G   ...ping Tool\\mathpix-snipping-tool.exe    N/A      |\n",
            "|    0   N/A  N/A     13648    C+G   ...2txyewy\\StartMenuExperienceHost.exe    N/A      |\n",
            "|    0   N/A  N/A     15384    C+G   ... Stream\\104.0.4.0\\GoogleDriveFS.exe    N/A      |\n",
            "|    0   N/A  N/A     17608    C+G   ...\\Local\\slack\\app-4.42.120\\slack.exe    N/A      |\n",
            "|    0   N/A  N/A     19848    C+G   ...up\\ui-launcher\\AdskAccessUIHost.exe    N/A      |\n",
            "|    0   N/A  N/A     24204    C+G   ....Search_cw5n1h2txyewy\\SearchApp.exe    N/A      |\n",
            "|    0   N/A  N/A     24252    C+G   ...on\\133.0.3065.92\\msedgewebview2.exe    N/A      |\n",
            "|    0   N/A  N/A     29016    C+G   ...64__8wekyb3d8bbwe\\CalculatorApp.exe    N/A      |\n",
            "|    0   N/A  N/A     31496    C+G   ...Mozilla Thunderbird\\thunderbird.exe    N/A      |\n",
            "|    0   N/A  N/A     31632    C+G   ...5.0_x64__cv1g1gvanyjgm\\WhatsApp.exe    N/A      |\n",
            "|    0   N/A  N/A     32064    C+G   ...s\\Autodesk\\Autodesk AdSSO\\AdSSO.exe    N/A      |\n",
            "+---------------------------------------------------------------------------------------+\n",
            "torch.__version__: 1.13.1\n",
            "sys.version: 3.7.15 (default, Nov 24 2022, 18:44:54) [MSC v.1916 64 bit (AMD64)]\n"
          ]
        }
      ],
      "source": [
        "gpu_info = !nvidia-smi\n",
        "gpu_info = '\\n'.join(gpu_info)\n",
        "if gpu_info.find('failed') >= 0:\n",
        "    print('Select the Runtime > \"Change runtime type\" menu to enable a GPU accelerator, ')\n",
        "    print('and then re-execute this cell.')\n",
        "else:\n",
        "    print(gpu_info)\n",
        "\n",
        "CUDA = torch.cuda.is_available()\n",
        "device = torch.device(\"cuda\" if CUDA else \"cpu\")\n",
        "\n",
        "# torch and python versions ====================================================\n",
        "print('torch.__version__:',torch.__version__)\n",
        "print('sys.version:',sys.version)"
      ]
    },
    {
      "cell_type": "markdown",
      "metadata": {
        "id": "hG9f-HKzyCv1"
      },
      "source": [
        "## Setting"
      ]
    },
    {
      "cell_type": "code",
      "execution_count": null,
      "metadata": {
        "ExecuteTime": {
          "end_time": "2025-03-06T10:09:15.738364Z",
          "start_time": "2025-03-06T10:09:15.726366Z"
        },
        "id": "ri3UgbJYcKQ6"
      },
      "outputs": [],
      "source": [
        "USE_ADAM = True\n",
        "BATCH_SIZE_H1 = 32\n",
        "BATCH_SIZE_H2 = 4\n",
        "LEARNING_RATE_H1 = 0.001\n",
        "LEARNING_RATE_H2 = 0.0008\n",
        "HIDDEN_DIM = 128\n",
        "N_LAYERS = 2\n",
        "EPOCHS_H1 = 160\n",
        "PATIENCE = 10\n",
        "EPOCHS_H2 = 160\n",
        "MIN_RANDOM_VALUES = 0\n",
        "MAX_RANDOM_VALUES = 500\n",
        "FORCE_TRAINING_H1 = False\n",
        "FORCE_TRAINING_H2 = False\n",
        "USE_VALIDATION = True\n",
        "USE_EARLY_STOP = False\n",
        "MODEL_NAME_H1 = 'model_H1.zip'\n",
        "MODEL_NAME_H2 = 'model_H2.zip'\n",
        "\n",
        "TEST_FRACTION = 0.4\n",
        "VALIDATION_FRACTION = 0.1"
      ]
    },
    {
      "cell_type": "markdown",
      "metadata": {
        "id": "uEcH29saAcNg"
      },
      "source": [
        "## Prepare synthetic data"
      ]
    },
    {
      "cell_type": "code",
      "execution_count": null,
      "metadata": {
        "ExecuteTime": {
          "end_time": "2025-03-06T10:09:23.518740Z",
          "start_time": "2025-03-06T10:09:15.741367Z"
        },
        "colab": {
          "base_uri": "https://localhost:8080/"
        },
        "id": "27yPG8nz-YDD",
        "outputId": "049ba99b-66eb-43a9-f7c2-808524ce556d"
      },
      "outputs": [
        {
          "name": "stdout",
          "output_type": "stream",
          "text": [
            "(2002, 10000)\n"
          ]
        },
        {
          "data": {
            "text/plain": [
              "(10000, 2000)"
            ]
          },
          "execution_count": 6,
          "metadata": {},
          "output_type": "execute_result"
        }
      ],
      "source": [
        "# if Path(MODEL_NAME).is_file() and not FORCE_TRAINING:\n",
        "binary_vectors = pd.read_csv('synthetic_data_10000.csv', index_col=0)\n",
        "print(binary_vectors.shape)\n",
        "binary_vectors = binary_vectors.to_numpy()\n",
        "H1 = binary_vectors[2000]\n",
        "H2 = binary_vectors[2001] + H1\n",
        "binary_vectors = binary_vectors[:2000]\n",
        "binary_vectors = binary_vectors.T\n",
        "binary_vectors.shape"
      ]
    },
    {
      "cell_type": "code",
      "execution_count": null,
      "metadata": {
        "ExecuteTime": {
          "end_time": "2025-03-06T10:09:23.533974Z",
          "start_time": "2025-03-06T10:09:23.521724Z"
        },
        "colab": {
          "base_uri": "https://localhost:8080/"
        },
        "id": "5bNdWx69-YDK",
        "outputId": "cc4b2a40-60d5-4638-abed-16bee84d6197"
      },
      "outputs": [
        {
          "name": "stdout",
          "output_type": "stream",
          "text": [
            "(10000, 2000)\n",
            "(10000,)\n",
            "(10000,)\n"
          ]
        }
      ],
      "source": [
        "print(binary_vectors.shape)\n",
        "print(H1.shape)\n",
        "print(H2.shape)"
      ]
    },
    {
      "cell_type": "markdown",
      "metadata": {
        "id": "0rEJo7dWAVBr"
      },
      "source": [
        "## plot check"
      ]
    },
    {
      "cell_type": "code",
      "execution_count": null,
      "metadata": {
        "ExecuteTime": {
          "end_time": "2025-03-06T10:09:23.704747Z",
          "start_time": "2025-03-06T10:09:23.535915Z"
        },
        "colab": {
          "base_uri": "https://localhost:8080/",
          "height": 447
        },
        "id": "9_t8NwkWfmL6",
        "outputId": "cbc1cb63-9f53-4441-8162-df1c0fcb3999"
      },
      "outputs": [
        {
          "data": {
            "text/plain": [
              "[<matplotlib.lines.Line2D at 0x21f8519b9c8>]"
            ]
          },
          "execution_count": 8,
          "metadata": {},
          "output_type": "execute_result"
        },
        {
          "data": {
            "image/png": "[encoded data removed]",
            "text/plain": [
              "<Figure size 640x480 with 1 Axes>"
            ]
          },
          "metadata": {},
          "output_type": "display_data"
        }
      ],
      "source": [
        "import matplotlib.pyplot as plt\n",
        "c=55\n",
        "plt.plot(binary_vectors[c])\n",
        "# fig = px.bar(binary_vectors[c])"
      ]
    },
    {
      "cell_type": "code",
      "execution_count": null,
      "metadata": {
        "ExecuteTime": {
          "end_time": "2025-03-06T10:09:23.720553Z",
          "start_time": "2025-03-06T10:09:23.709691Z"
        },
        "colab": {
          "base_uri": "https://localhost:8080/"
        },
        "id": "hRnyZjnPgWlZ",
        "outputId": "e1070316-ba61-43fb-e72f-6de229629466"
      },
      "outputs": [
        {
          "name": "stdout",
          "output_type": "stream",
          "text": [
            "863.0\n",
            "1232.0\n"
          ]
        }
      ],
      "source": [
        "print(H1[c])\n",
        "print(H2[c])"
      ]
    },
    {
      "cell_type": "markdown",
      "metadata": {
        "id": "9IGlNHGkyK3a"
      },
      "source": [
        "## Expand dimension"
      ]
    },
    {
      "cell_type": "code",
      "execution_count": null,
      "metadata": {
        "ExecuteTime": {
          "end_time": "2025-03-06T10:09:23.735660Z",
          "start_time": "2025-03-06T10:09:23.723135Z"
        },
        "colab": {
          "base_uri": "https://localhost:8080/"
        },
        "id": "WBSTbEYPyEDr",
        "outputId": "2bad8aca-c20d-463a-e383-6bae827dd414"
      },
      "outputs": [
        {
          "name": "stdout",
          "output_type": "stream",
          "text": [
            "(10000, 2000, 1)\n",
            "(10000, 1)\n",
            "(10000, 1)\n"
          ]
        }
      ],
      "source": [
        "binary_vectors=np.expand_dims(binary_vectors, axis=2)\n",
        "H1=np.expand_dims(H1, axis=1)\n",
        "H2=np.expand_dims(H2, axis=1)\n",
        "\n",
        "print(binary_vectors.shape)\n",
        "print(H1.shape)\n",
        "print(H2.shape)"
      ]
    },
    {
      "cell_type": "markdown",
      "metadata": {
        "id": "SWKpC1noyPT4"
      },
      "source": [
        "## train & test split"
      ]
    },
    {
      "cell_type": "code",
      "execution_count": null,
      "metadata": {
        "ExecuteTime": {
          "end_time": "2025-03-06T10:09:23.750664Z",
          "start_time": "2025-03-06T10:09:23.737660Z"
        },
        "id": "uU15WTN_3eyh"
      },
      "outputs": [],
      "source": [
        "from sklearn.model_selection import train_test_split\n",
        "\n",
        "num_samples = binary_vectors.shape[0]\n",
        "\n",
        "# Split data into training set, validation set and test set ==============\n",
        "validation_portion = int(VALIDATION_FRACTION*len(H1))\n",
        "test_portion = int(TEST_FRACTION*len(H1))\n",
        "validation_test_portion = validation_portion + test_portion\n",
        "\n",
        "train_x = binary_vectors[:-validation_test_portion]\n",
        "train_y_H1 = H1[:-validation_test_portion]\n",
        "train_y_H2 = H2[:-validation_test_portion]\n",
        "\n",
        "validation_x = binary_vectors[-validation_test_portion:-test_portion]\n",
        "validation_y_H1 = H1[-validation_test_portion:-test_portion]\n",
        "validation_y_H2 = H2[-validation_test_portion:-test_portion]\n",
        "\n",
        "test_x = binary_vectors[-test_portion:]\n",
        "test_y_H1 = H1[-test_portion:]\n",
        "test_y_H2 = H2[-test_portion:]"
      ]
    },
    {
      "cell_type": "code",
      "execution_count": null,
      "metadata": {
        "ExecuteTime": {
          "end_time": "2025-03-06T10:09:23.766728Z",
          "start_time": "2025-03-06T10:09:23.753684Z"
        },
        "id": "Axi3wqQibB20"
      },
      "outputs": [],
      "source": [
        " # Create dataloaders =====================================================\n",
        "train_data_H1 = TensorDataset(torch.from_numpy(train_x), torch.from_numpy(train_y_H1))\n",
        "train_loader_H1 = DataLoader(train_data_H1, shuffle=False, batch_size=BATCH_SIZE_H1, drop_last=True)\n",
        "\n",
        "validation_data_H1 = TensorDataset(torch.from_numpy(validation_x), torch.from_numpy(validation_y_H1))\n",
        "validation_loader_H1 = DataLoader(validation_data_H1, shuffle=False, batch_size=BATCH_SIZE_H1, drop_last=True)\n",
        "\n",
        "train_data_H2 = TensorDataset(torch.from_numpy(train_x), torch.from_numpy(train_y_H2))\n",
        "train_loader_H2 = DataLoader(train_data_H2, shuffle=False, batch_size=BATCH_SIZE_H2, drop_last=True)\n",
        "\n",
        "validation_data_H2 = TensorDataset(torch.from_numpy(validation_x), torch.from_numpy(validation_y_H2))\n",
        "validation_loader_H2 = DataLoader(validation_data_H2, shuffle=False, batch_size=BATCH_SIZE_H2, drop_last=True)"
      ]
    },
    {
      "cell_type": "markdown",
      "metadata": {
        "id": "DvzZoNYBAqcg"
      },
      "source": [
        "## Prepare real data"
      ]
    },
    {
      "cell_type": "code",
      "execution_count": null,
      "metadata": {
        "ExecuteTime": {
          "end_time": "2025-03-06T10:09:23.797758Z",
          "start_time": "2025-03-06T10:09:23.768748Z"
        },
        "colab": {
          "base_uri": "https://localhost:8080/"
        },
        "id": "iuFOQ6wKs1AC",
        "outputId": "efccd582-15cb-4741-84f7-3a3f2e3a2227"
      },
      "outputs": [
        {
          "name": "stdout",
          "output_type": "stream",
          "text": [
            "(2002, 41)\n",
            "(2002, 41)\n",
            "(41, 2000, 1)\n",
            "(41, 1)\n"
          ]
        }
      ],
      "source": [
        "real = pd.read_csv('real_data.csv', header=None)\n",
        "\n",
        "print(real.shape)\n",
        "\n",
        "real = real.to_numpy()\n",
        "\n",
        "print(real.shape)\n",
        "\n",
        "X_real = real[:2000]\n",
        "y_real = real[2000:]\n",
        "\n",
        "y_real_H1 = y_real[0]\n",
        "y_real_H2 = y_real[1]+y_real_H1\n",
        "\n",
        "X_real = X_real.T\n",
        "y_real_H1 = y_real_H1.T\n",
        "y_real_H2 = y_real_H2.T\n",
        "\n",
        "X_real = np.expand_dims(X_real, axis=2)\n",
        "y_real_H1 = np.expand_dims(y_real_H1, axis=1)\n",
        "y_real_H2 = np.expand_dims(y_real_H2, axis=1)\n",
        "print(X_real.shape)\n",
        "print(y_real_H1.shape)"
      ]
    },
    {
      "cell_type": "markdown",
      "metadata": {
        "id": "DyPcaI4IyVre"
      },
      "source": [
        "## Model"
      ]
    },
    {
      "cell_type": "code",
      "execution_count": null,
      "metadata": {
        "ExecuteTime": {
          "end_time": "2025-03-06T10:09:23.828723Z",
          "start_time": "2025-03-06T10:09:23.800728Z"
        },
        "id": "gughAfGGaXg-"
      },
      "outputs": [],
      "source": [
        "class Model(nn.Module):\n",
        "    def __init__(self, input_dim, hidden_dim, output_dim, n_layers, drop_prob=0.0):\n",
        "        super(Model, self).__init__()\n",
        "        self.hidden_dim = hidden_dim\n",
        "        self.n_layers = n_layers\n",
        "        self.positive_variable = True\n",
        "\n",
        "        self.gru = nn.GRU(input_dim, hidden_dim, n_layers, batch_first=True, dropout=drop_prob)\n",
        "\n",
        "        #self.bat_a = nn.BatchNorm1d(hidden_dim)\n",
        "        #self.bat_b = nn.BatchNorm1d(hidden_dim)\n",
        "        self.activation_a = nn.ReLU()\n",
        "        #self.activation_b = nn.ReLU()\n",
        "        self.fc_a = nn.Linear(hidden_dim, hidden_dim//2)\n",
        "        self.fc_b = nn.Linear(hidden_dim//2, output_dim)\n",
        "\n",
        "    def forward(self, x, h):\n",
        "        out, h = self.gru(x, h)\n",
        "        # print('out.shape (before):',out.shape)\n",
        "\n",
        "        '''\n",
        "        The following statement is important: we are implementing a S2V model,\n",
        "        so we select the latest output.\n",
        "        '''\n",
        "\n",
        "        out=out[:,-1]\n",
        "        # print('out.shape (after):',out.shape)\n",
        "\n",
        "        #out=self.activation_a(out)\n",
        "        out=self.fc_a(out)\n",
        "        out=self.activation_a(out)\n",
        "        out=self.fc_b(out)\n",
        "\n",
        "        if self.positive_variable:\n",
        "          #out=torch.exp(out)\n",
        "          #out=torch.abs(out)\n",
        "          #out=torch.square(out)\n",
        "          pass\n",
        "\n",
        "        return out, h\n",
        "\n",
        "    def init_hidden(self, batch_size):\n",
        "        weight = next(self.parameters()).data\n",
        "        hidden = weight.new(self.n_layers, batch_size, self.hidden_dim).zero_().to(device)\n",
        "        return hidden"
      ]
    },
    {
      "cell_type": "code",
      "execution_count": null,
      "metadata": {
        "ExecuteTime": {
          "end_time": "2025-03-06T10:09:23.859727Z",
          "start_time": "2025-03-06T10:09:23.832732Z"
        },
        "id": "Xqd_ex8CaqeM"
      },
      "outputs": [],
      "source": [
        "def process_epoch(model, data_loader, criterion, optimizer, train):\n",
        "    n_layers = model.n_layers\n",
        "    hidden_dim = model.hidden_dim\n",
        "    batch_size = data_loader.batch_size\n",
        "\n",
        "    h = torch.zeros([n_layers, batch_size, hidden_dim]).to(device)\n",
        "\n",
        "    total_loss = 0.\n",
        "    counter = 0\n",
        "\n",
        "    for x, y in data_loader:\n",
        "        counter += 1\n",
        "\n",
        "        h = torch.zeros([n_layers, batch_size, hidden_dim]).to(device)\n",
        "\n",
        "        model.zero_grad()\n",
        "\n",
        "        y_hat, h = model(x.to(device).float(), h)\n",
        "        # print('Shape H:',h.shape)\n",
        "\n",
        "        loss = criterion(y_hat, y.to(device).float())\n",
        "        total_loss += loss.item()\n",
        "\n",
        "        if train:\n",
        "            loss.backward()\n",
        "            optimizer.step()\n",
        "\n",
        "        if counter%20==0:\n",
        "            print(\"Step: {}/{}, Average Loss: {}\".format(counter, len(data_loader), total_loss/counter))\n",
        "\n",
        "    avg_loss = total_loss/len(data_loader)\n",
        "\n",
        "    return avg_loss\n",
        "\n",
        "def train(model_name, train_loader, validation_loader, learning_rate, batch_size, hidden_dim=64, n_layers=2, patience=None, epochs=None):\n",
        "    input_dim = next(iter(train_loader))[0].shape[2]\n",
        "    output_dim = 1\n",
        "\n",
        "    print('Input dim.:', input_dim)\n",
        "    print('Output dim.:', output_dim)\n",
        "\n",
        "    # The model\n",
        "    model = Model(input_dim, hidden_dim, output_dim, n_layers)\n",
        "    model.to(device)\n",
        "\n",
        "    # Loss function and optimizer\n",
        "    # criterion = nn.MSELoss()\n",
        "    criterion = nn.L1Loss()\n",
        "    # criterion = nn.HuberLoss()\n",
        "    if USE_ADAM:\n",
        "      optimizer = torch.optim.Adam(model.parameters(), lr=learning_rate)\n",
        "    else:\n",
        "      optimizer = torch.optim.RMSprop(model.parameters(), lr=learning_rate)\n",
        "\n",
        "    model.train()\n",
        "\n",
        "    epoch=1\n",
        "    patience_counter = 0\n",
        "    min_validation_loss=None\n",
        "    validation_loss=None\n",
        "\n",
        "    train_loss_list=[]\n",
        "    validation_loss_list=[]\n",
        "\n",
        "    # Training loop ============================================================\n",
        "    while True:\n",
        "        print(\"Epoch {}\".format(epoch))\n",
        "\n",
        "        print('Training...')\n",
        "        train_loss = process_epoch(model, train_loader, criterion, optimizer, train = True)\n",
        "\n",
        "        if USE_VALIDATION:\n",
        "          print('Validation...')\n",
        "          validation_loss = process_epoch(model, validation_loader, criterion, optimizer, train = False)\n",
        "          validation_loss_list.append(validation_loss)\n",
        "\n",
        "        train_loss_list.append(train_loss)\n",
        "\n",
        "        if min_validation_loss is None or validation_loss<min_validation_loss or not USE_VALIDATION:\n",
        "          # Save the model\n",
        "          print('Saving the model...')\n",
        "          torch.save(model, model_name)\n",
        "\n",
        "          min_validation_loss = validation_loss\n",
        "          patience_counter = 0\n",
        "        else:\n",
        "          print('Increasing patience counter')\n",
        "          patience_counter +=1\n",
        "\n",
        "        print(\"Epoch {} Completed, Train Loss: {}, Validation Loss: {}, Patience counter: {}\".format(epoch, train_loss, validation_loss, patience_counter))\n",
        "\n",
        "        if (patience_counter>patience and USE_EARLY_STOP) or epoch==epochs:\n",
        "          break\n",
        "\n",
        "        epoch += 1\n",
        "\n",
        "    print('Restoring the best model...')\n",
        "    model = torch.load(model_name)\n",
        "    return model"
      ]
    },
    {
      "cell_type": "code",
      "execution_count": null,
      "metadata": {
        "ExecuteTime": {
          "end_time": "2025-03-06T10:09:23.875716Z",
          "start_time": "2025-03-06T10:09:23.861725Z"
        },
        "id": "0_1UakKEauks"
      },
      "outputs": [],
      "source": [
        "def evaluate(model, test_x, test_y):\n",
        "    outputs = []\n",
        "    targets = []\n",
        "\n",
        "    for i in range(test_x.shape[0]):\n",
        "        inp = torch.from_numpy(np.expand_dims(test_x[i], axis=0))\n",
        "\n",
        "        out, h = model(inp.to(device).float(), None)\n",
        "\n",
        "        outputs.append(out[0,0].item())\n",
        "        targets.append(test_y[i])\n",
        "\n",
        "        if i%5000==0:\n",
        "          print(i,'/',test_x.shape[0],sep='')\n",
        "\n",
        "    return outputs, targets"
      ]
    },
    {
      "cell_type": "code",
      "execution_count": null,
      "metadata": {
        "ExecuteTime": {
          "end_time": "2025-03-06T10:09:23.890700Z",
          "start_time": "2025-03-06T10:09:23.878709Z"
        },
        "id": "tf0HZM18axod"
      },
      "outputs": [],
      "source": [
        "def rmse(x,y):\n",
        "  return np.sqrt(mean_squared_error(x,y))\n",
        "\n",
        "def mae(x, y):\n",
        "    return np.mean(np.abs(x - y))"
      ]
    },
    {
      "cell_type": "markdown",
      "metadata": {
        "id": "RUrCSXf-cwik"
      },
      "source": [
        "# H1"
      ]
    },
    {
      "cell_type": "code",
      "execution_count": null,
      "metadata": {
        "ExecuteTime": {
          "end_time": "2025-03-06T10:09:23.967413Z",
          "start_time": "2025-03-06T10:09:23.923438Z"
        },
        "colab": {
          "base_uri": "https://localhost:8080/"
        },
        "id": "GfkUodfwcm7T",
        "outputId": "4906deba-d051-4b43-cd61-a4022199a076"
      },
      "outputs": [
        {
          "data": {
            "text/plain": [
              "Model(\n",
              "  (gru): GRU(1, 128, num_layers=2, batch_first=True)\n",
              "  (activation_a): ReLU()\n",
              "  (fc_a): Linear(in_features=128, out_features=64, bias=True)\n",
              "  (fc_b): Linear(in_features=64, out_features=1, bias=True)\n",
              ")"
            ]
          },
          "execution_count": 18,
          "metadata": {},
          "output_type": "execute_result"
        }
      ],
      "source": [
        "device = torch.device(\"cuda\" if torch.cuda.is_available() else \"cpu\")\n",
        "\n",
        "if Path(MODEL_NAME_H1).is_file() and not FORCE_TRAINING_H1:\n",
        "    # Load pre-trained model\n",
        "    model_H1 = torch.load(MODEL_NAME_H1, map_location = device)\n",
        "else:\n",
        "    # Train a new model\n",
        "    model_H1 = train(MODEL_NAME_H1, train_loader_H1, validation_loader_H1, batch_size=BATCH_SIZE_H1, learning_rate=LEARNING_RATE_H1, hidden_dim=HIDDEN_DIM, n_layers=N_LAYERS, patience=PATIENCE, epochs=EPOCHS_H1)\n",
        "    # Save the trained model\n",
        "    torch.save(model_H1, MODEL_NAME_H1)\n",
        "\n",
        "model_H1.to(device)\n",
        "\n",
        "model_H1.eval()"
      ]
    },
    {
      "cell_type": "markdown",
      "metadata": {
        "id": "brEsq3AlLRc_"
      },
      "source": [
        "## Synthetic data"
      ]
    },
    {
      "cell_type": "code",
      "execution_count": null,
      "metadata": {
        "ExecuteTime": {
          "start_time": "2025-03-06T10:10:15.758304Z"
        },
        "id": "1hRcvVMhcyLx",
        "jupyter": {
          "is_executing": true
        }
      },
      "outputs": [],
      "source": [
        "device = torch.device(\"cuda\" if torch.cuda.is_available() else \"cpu\")\n",
        "model_H1 = torch.load(MODEL_NAME_H1, map_location = device)\n",
        "\n",
        "# Evaluation\n",
        "predictions_array, targets_array = evaluate(model_H1, test_x, test_y_H1)\n",
        "\n",
        "print('_'*80)\n",
        "\n",
        "# R^2 ====================================================================\n",
        "r2_prediction = r2_score(targets_array, predictions_array)\n",
        "print('Prediction R²: {:.5f}'.format(r2_prediction))\n",
        "\n",
        "print('_'*80)"
      ]
    },
    {
      "cell_type": "markdown",
      "metadata": {
        "id": "IFuAdt1FLRc_"
      },
      "source": [
        "## Real data"
      ]
    },
    {
      "cell_type": "code",
      "execution_count": null,
      "metadata": {
        "ExecuteTime": {
          "end_time": "2025-03-06T10:09:23.972416Z",
          "start_time": "2025-03-06T10:09:23.972416Z"
        },
        "colab": {
          "base_uri": "https://localhost:8080/"
        },
        "id": "a5IJnQqudL74",
        "outputId": "74ba8815-911e-464c-bedc-25cf5deb4c1d"
      },
      "outputs": [
        {
          "name": "stdout",
          "output_type": "stream",
          "text": [
            "0/41\n",
            "________________________________________________________________________________\n",
            "Prediction R²: 0.97556\n",
            "________________________________________________________________________________\n"
          ]
        }
      ],
      "source": [
        "# Evaluation\n",
        "predictions_array, targets_array = evaluate(model_H1, X_real, y_real_H1)\n",
        "\n",
        "print('_'*80)\n",
        "\n",
        "# R^2 ====================================================================\n",
        "r2_prediction = r2_score(targets_array, predictions_array)\n",
        "print('Prediction R²: {:.5f}'.format(r2_prediction))\n",
        "\n",
        "print('_'*80)"
      ]
    },
    {
      "cell_type": "markdown",
      "metadata": {
        "id": "o8bXiv8ql1vn"
      },
      "source": [
        "# H2"
      ]
    },
    {
      "cell_type": "code",
      "execution_count": null,
      "metadata": {
        "ExecuteTime": {
          "end_time": "2025-03-06T10:09:23.967413Z",
          "start_time": "2025-03-06T10:09:23.923438Z"
        },
        "colab": {
          "base_uri": "https://localhost:8080/"
        },
        "outputId": "4906deba-d051-4b43-cd61-a4022199a076",
        "id": "crOzSlEgLRdA"
      },
      "outputs": [
        {
          "data": {
            "text/plain": [
              "Model(\n",
              "  (gru): GRU(1, 128, num_layers=2, batch_first=True)\n",
              "  (activation_a): ReLU()\n",
              "  (fc_a): Linear(in_features=128, out_features=64, bias=True)\n",
              "  (fc_b): Linear(in_features=64, out_features=1, bias=True)\n",
              ")"
            ]
          },
          "execution_count": 21,
          "metadata": {},
          "output_type": "execute_result"
        }
      ],
      "source": [
        "device = torch.device(\"cuda\" if torch.cuda.is_available() else \"cpu\")\n",
        "\n",
        "if Path(MODEL_NAME_H2).is_file() and not FORCE_TRAINING_H2:\n",
        "    # Load pre-trained model\n",
        "    model_H2 = torch.load(MODEL_NAME_H2, map_location = device)\n",
        "else:\n",
        "    # Train a new model\n",
        "    model_H2 = train(MODEL_NAME_H2, train_loader_H2, validation_loader_H2, batch_size=BATCH_SIZE_H2, learning_rate=LEARNING_RATE_H2, hidden_dim=HIDDEN_DIM, n_layers=N_LAYERS, patience=PATIENCE, epochs=EPOCHS_H2)\n",
        "    # Save the trained model\n",
        "    torch.save(model_H2, MODEL_NAME_H2)\n",
        "\n",
        "model_H2.to(device)\n",
        "\n",
        "model_H2.eval()\n"
      ]
    },
    {
      "cell_type": "markdown",
      "metadata": {
        "id": "JVTKI-jeLRdB"
      },
      "source": [
        "## Synthetic data"
      ]
    },
    {
      "cell_type": "code",
      "execution_count": null,
      "metadata": {
        "ExecuteTime": {
          "start_time": "2025-03-06T10:10:15.758304Z"
        },
        "jupyter": {
          "is_executing": true
        },
        "id": "-6PYdTTJLRdB"
      },
      "outputs": [],
      "source": [
        "device = torch.device(\"cuda\" if torch.cuda.is_available() else \"cpu\")\n",
        "model_H2 = torch.load(MODEL_NAME_H2, map_location = device)\n",
        "\n",
        "# Evaluation\n",
        "predictions_array, targets_array = evaluate(model_H2, test_x, test_y_H2)\n",
        "\n",
        "print('_'*80)\n",
        "\n",
        "# R^2 ====================================================================\n",
        "r2_prediction = r2_score(targets_array, predictions_array)\n",
        "print('Prediction R²: {:.5f}'.format(r2_prediction))\n",
        "\n",
        "print('_'*80)"
      ]
    },
    {
      "cell_type": "markdown",
      "metadata": {
        "id": "2TZJtNK0LRdB"
      },
      "source": [
        "## Real data"
      ]
    },
    {
      "cell_type": "code",
      "execution_count": null,
      "metadata": {
        "ExecuteTime": {
          "end_time": "2025-03-06T10:09:23.972416Z",
          "start_time": "2025-03-06T10:09:23.972416Z"
        },
        "colab": {
          "base_uri": "https://localhost:8080/"
        },
        "outputId": "74ba8815-911e-464c-bedc-25cf5deb4c1d",
        "id": "BoeFbRoQLRdB"
      },
      "outputs": [
        {
          "name": "stdout",
          "output_type": "stream",
          "text": [
            "0/41\n",
            "________________________________________________________________________________\n",
            "Prediction R²: 0.82919\n",
            "________________________________________________________________________________\n"
          ]
        }
      ],
      "source": [
        "# Evaluation\n",
        "predictions_array, targets_array = evaluate(model_H2, X_real, y_real_H2)\n",
        "\n",
        "print('_'*80)\n",
        "\n",
        "# R^2 ====================================================================\n",
        "r2_prediction = r2_score(targets_array, predictions_array)\n",
        "print('Prediction R²: {:.5f}'.format(r2_prediction))\n",
        "\n",
        "print('_'*80)"
      ]
    }
  ],
  "metadata": {
    "accelerator": "GPU",
    "colab": {
      "gpuType": "V100",
      "machine_shape": "hm",
      "provenance": [],
      "toc_visible": true
    },
    "kernelspec": {
      "display_name": "Python 3 (ipykernel)",
      "language": "python",
      "name": "python3"
    },
    "language_info": {
      "codemirror_mode": {
        "name": "ipython",
        "version": 3
      },
      "file_extension": ".py",
      "mimetype": "text/x-python",
      "name": "python",
      "nbconvert_exporter": "python",
      "pygments_lexer": "ipython3",
      "version": "3.7.15"
    }
  },
  "nbformat": 4,
  "nbformat_minor": 0
}